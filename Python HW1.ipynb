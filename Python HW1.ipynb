{
 "cells": [
  {
   "cell_type": "code",
   "execution_count": 5,
   "id": "66d22fab",
   "metadata": {},
   "outputs": [
    {
     "name": "stdout",
     "output_type": "stream",
     "text": [
      "hello world\n"
     ]
    }
   ],
   "source": [
    "def task1 ():\n",
    "    print(\"hello world\")\n",
    "if __name__ =='__main__': \n",
    "    task1 ()"
   ]
  },
  {
   "cell_type": "code",
   "execution_count": 6,
   "id": "ea025947",
   "metadata": {},
   "outputs": [
    {
     "name": "stdout",
     "output_type": "stream",
     "text": [
      "[1, 2, 3, 4, 5]\n"
     ]
    }
   ],
   "source": [
    "def task2():\n",
    "    items = [1, 2, 3, 4, 5]\n",
    "    print(items)\n",
    "\n",
    "task2()\n"
   ]
  },
  {
   "cell_type": "code",
   "execution_count": 7,
   "id": "49c152d8",
   "metadata": {},
   "outputs": [
    {
     "name": "stdout",
     "output_type": "stream",
     "text": [
      "items1: [1, 2, 3, 4, 5]\n",
      "items2: [6, 7, 8, 9, 10]\n"
     ]
    }
   ],
   "source": [
    "def write_to_file(filename, data):\n",
    "    with open(filename, 'w') as file:\n",
    "        file.write(data)\n",
    "\n",
    "def read_and_load(filename):\n",
    "    with open(filename, 'r') as file:\n",
    "        data = file.read()\n",
    "        items = list(map(int, data.split()))\n",
    "        items1 = items[:5]\n",
    "        items2 = items[5:]\n",
    "        return items1, items2\n",
    "\n",
    "write_to_file('task3.data', '1 2 3 4 5 6 7 8 9 10')\n",
    "\n",
    "items1, items2 = read_and_load('task3.data')\n",
    "\n",
    "print(\"items1:\", items1)\n",
    "print(\"items2:\", items2)\n"
   ]
  },
  {
   "cell_type": "code",
   "execution_count": 8,
   "id": "891fcacd",
   "metadata": {},
   "outputs": [
    {
     "name": "stdout",
     "output_type": "stream",
     "text": [
      "Results for data1:\n",
      "Printing dictionary using items():\n",
      "school: UAlbany\n",
      "address: 1400 Washington Ave, Albany, NY 12222\n",
      "phone: (518) 442-3300\n",
      "\n",
      "Printing dictionary keys using keys():\n",
      "school\n",
      "address\n",
      "phone\n",
      "\n",
      "Printing dictionary values using values():\n",
      "UAlbany\n",
      "1400 Washington Ave, Albany, NY 12222\n",
      "(518) 442-3300\n",
      "\n",
      "Results for data2:\n",
      "Printing dictionary using items():\n",
      "school: UAlbany\n",
      "address: 1400 Washington Ave, Albany, NY 12222\n",
      "phone: (518) 442-3300\n",
      "\n",
      "Printing dictionary keys using keys():\n",
      "school\n",
      "address\n",
      "phone\n",
      "\n",
      "Printing dictionary values using values():\n",
      "UAlbany\n",
      "1400 Washington Ave, Albany, NY 12222\n",
      "(518) 442-3300\n"
     ]
    }
   ],
   "source": [
    "def print_dictionary_info(data):\n",
    "    print(\"Printing dictionary using items():\")\n",
    "    for key, value in data.items():\n",
    "        print(f\"{key}: {value}\")\n",
    "\n",
    "    print(\"\\nPrinting dictionary keys using keys():\")\n",
    "    for key in data.keys():\n",
    "        print(key)\n",
    "\n",
    "    print(\"\\nPrinting dictionary values using values():\")\n",
    "    for value in data.values():\n",
    "        print(value)\n",
    "\n",
    "data1 = dict()\n",
    "data1['school'] = 'UAlbany'\n",
    "data1['address'] = '1400 Washington Ave, Albany, NY 12222'\n",
    "data1['phone'] = '(518) 442-3300'\n",
    "\n",
    "data2 = {'school': 'UAlbany', 'address': '1400 Washington Ave, Albany, NY 12222', 'phone': '(518) 442-3300'}\n",
    "\n",
    "print(\"Results for data1:\")\n",
    "print_dictionary_info(data1)\n",
    "\n",
    "print(\"\\nResults for data2:\")\n",
    "print_dictionary_info(data2)\n"
   ]
  },
  {
   "cell_type": "code",
   "execution_count": 9,
   "id": "176fd0a4",
   "metadata": {},
   "outputs": [
    {
     "name": "stdout",
     "output_type": "stream",
     "text": [
      "Printing items from loaded dictionary:\n",
      "school: UAlbany\n",
      "address: 1400 Washington Ave, Albany, NY 12222\n",
      "phone: (518) 442-3300\n",
      "\n",
      "Printing keys from loaded dictionary:\n",
      "school\n",
      "address\n",
      "phone\n",
      "\n",
      "Printing values from loaded dictionary:\n",
      "UAlbany\n",
      "1400 Washington Ave, Albany, NY 12222\n",
      "(518) 442-3300\n"
     ]
    }
   ],
   "source": [
    "import json\n",
    "\n",
    "def save_to_json_file(filename, data):\n",
    "    with open(filename, 'w') as file:\n",
    "        json.dump(data, file)\n",
    "\n",
    "def load_from_json_file(filename):\n",
    "    with open(filename, 'r') as file:\n",
    "        loaded_data = json.load(file)\n",
    "        return loaded_data\n",
    "\n",
    "data = {'school': 'UAlbany', 'address': '1400 Washington Ave, Albany, NY 12222', 'phone': '(518) 442-3300'}\n",
    "\n",
    "save_to_json_file('data.json', data)\n",
    "\n",
    "loaded_data = load_from_json_file('data.json')\n",
    "\n",
    "print(\"Printing items from loaded dictionary:\")\n",
    "for key, value in loaded_data.items():\n",
    "    print(f\"{key}: {value}\")\n",
    "\n",
    "print(\"\\nPrinting keys from loaded dictionary:\")\n",
    "for key in loaded_data.keys():\n",
    "    print(key)\n",
    "\n",
    "print(\"\\nPrinting values from loaded dictionary:\")\n",
    "for value in loaded_data.values():\n",
    "    print(value)\n"
   ]
  },
  {
   "cell_type": "code",
   "execution_count": 10,
   "id": "c00c07c5",
   "metadata": {},
   "outputs": [
    {
     "name": "stdout",
     "output_type": "stream",
     "text": [
      "Loaded List: [1, 2, 3, 4, 5]\n",
      "\n",
      "Loaded Dictionary:\n",
      "school: UAlbany\n",
      "address: 1400 Washington Ave, Albany, NY 12222\n",
      "phone: (518) 442-3300\n"
     ]
    }
   ],
   "source": [
    "import json\n",
    "\n",
    "def dump_to_file(filename, *objects):\n",
    "    with open(filename, 'w') as file:\n",
    "        for obj in objects:\n",
    "            json.dump(obj, file)\n",
    "            file.write('\\n')  # Add a newline between objects for readability\n",
    "\n",
    "def load_from_file(filename):\n",
    "    loaded_objects = []\n",
    "    with open(filename, 'r') as file:\n",
    "        for line in file:\n",
    "            loaded_objects.append(json.loads(line))\n",
    "    return loaded_objects\n",
    "\n",
    "items = [1, 2, 3, 4, 5]\n",
    "\n",
    "data = {'school': 'UAlbany', 'address': '1400 Washington Ave, Albany, NY 12222', 'phone': '(518) 442-3300'}\n",
    "\n",
    "dump_to_file('task6.data', items, data)\n",
    "\n",
    "loaded_items, loaded_data = load_from_file('task6.data')\n",
    "\n",
    "print(\"Loaded List:\", loaded_items)\n",
    "print(\"\\nLoaded Dictionary:\")\n",
    "for key, value in loaded_data.items():\n",
    "    print(f\"{key}: {value}\")\n"
   ]
  },
  {
   "cell_type": "code",
   "execution_count": null,
   "id": "83e96d65",
   "metadata": {},
   "outputs": [],
   "source": [
    "import json\n",
    "\n",
    "def print_tweet_ids(filename):\n",
    "    with open(filename, 'r') as file:\n",
    "        tweet_lines = file.readlines()\n",
    "\n",
    "        for line in tweet_lines:\n",
    "            tweet = json.loads(line)\n",
    "            \n",
    "            tweet_id = tweet.get('id', None)\n",
    "            \n",
    "            if tweet_id is not None:\n",
    "                print(f\"Tweet ID: {tweet_id}\")\n",
    "\n",
    "print_tweet_ids('CrimeReport.txt')\n"
   ]
  }
 ],
 "metadata": {
  "kernelspec": {
   "display_name": "Python 3 (ipykernel)",
   "language": "python",
   "name": "python3"
  },
  "language_info": {
   "codemirror_mode": {
    "name": "ipython",
    "version": 3
   },
   "file_extension": ".py",
   "mimetype": "text/x-python",
   "name": "python",
   "nbconvert_exporter": "python",
   "pygments_lexer": "ipython3",
   "version": "3.11.5"
  }
 },
 "nbformat": 4,
 "nbformat_minor": 5
}
